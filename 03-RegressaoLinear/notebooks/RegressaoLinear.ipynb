{
 "cells": [
  {
   "cell_type": "markdown",
   "metadata": {
    "ExecuteTime": {
     "end_time": "2020-05-07T20:19:56.848370Z",
     "start_time": "2020-05-07T20:19:56.835968Z"
    }
   },
   "source": [
    "# Regressão Linear\n",
    "\n",
    "Regressão Linear tem origem na estatística. É uma equação para se estimar o valor esperado de uma variável Y com base nos valores de outras variáveis x.\n",
    "\n",
    "![reglinear](../images/reg.png)"
   ]
  },
  {
   "cell_type": "markdown",
   "metadata": {},
   "source": [
    "## Os dados\n",
    "\n",
    "Voltando ao dataset do Fifa 19.\n",
    "\n",
    "Esses dados podem ser [encontrados no Kaggle](https://www.kaggle.com/karangadiya/fifa19). \n",
    "\n",
    "![fifa](../images/fifa.jpeg)\n",
    "\n",
    "Nesta aula, usaremos a biblioteca ScikitLearn e o modelo de regressão linear para tentar prever os valores da coluna \"Overall\"."
   ]
  },
  {
   "cell_type": "code",
   "execution_count": null,
   "metadata": {
    "ExecuteTime": {
     "end_time": "2020-05-22T02:18:02.266141Z",
     "start_time": "2020-05-22T02:18:01.810362Z"
    }
   },
   "outputs": [],
   "source": [
    "#Lendo os dados\n",
    "import pandas as pd\n",
    "pd.set_option('display.max_columns',200)\n",
    "data = pd.read_csv('../data/data.csv', index_col = 0)\n",
    "\n",
    "#Arrumando algumas variáveis numéricas:\n",
    "def convert_currency(col):\n",
    "    return (col.str.lstrip('€')\n",
    "               .str.rstrip('.')\n",
    "               .str.replace('K','000')\n",
    "               .str.replace('M','000000')\n",
    "               .astype('float'))\n",
    "\n",
    "data['Value'] = convert_currency(data.Value)\n",
    "data['Wage'] = convert_currency(data.Wage)\n",
    "data['Weight'] = data.Weight.str.rstrip('lbs').astype('float')\n",
    "\n",
    "#Filtrando variáveis numéricas\n",
    "#PS: escolha decorrente de um processo CONSCIENTE de Análise Exploratória!!!\n",
    "data_numeric = data[['Age', 'Potential', 'Value', 'Wage', 'Special', 'International Reputation', 'Weight',\n",
    "               'HeadingAccuracy', 'ShortPassing', 'Volleys', 'Dribbling', 'Curve', 'FKAccuracy',\n",
    "                'LongPassing', 'BallControl', 'Acceleration', 'SprintSpeed', 'Agility', 'Reactions',\n",
    "                'Balance', 'ShotPower', 'Jumping', 'Stamina', 'Strength', 'LongShots', 'GKPositioning',\n",
    "                'Aggression', 'Interceptions', 'Positioning', 'Vision', 'Penalties','Composure',\n",
    "                'Marking', 'StandingTackle', 'SlidingTackle', 'GKDiving', 'GKHandling',\n",
    "                'GKKicking','GKReflexes', 'Overall']]\n",
    "\n",
    "#Excluindo desse meu conjunto de variáveis selecionadas as linhas que tem algum valor nulo\n",
    "#PS: aqui decidi excluir porque sei que não são muitos os casos, então não vou perder muito dado\n",
    "data_numeric = data_numeric.dropna()"
   ]
  },
  {
   "cell_type": "code",
   "execution_count": null,
   "metadata": {
    "ExecuteTime": {
     "end_time": "2020-05-18T13:24:06.141987Z",
     "start_time": "2020-05-18T13:24:05.842649Z"
    }
   },
   "outputs": [],
   "source": [
    "data_numeric.head(5)"
   ]
  },
  {
   "cell_type": "markdown",
   "metadata": {},
   "source": [
    "## Passo 1: estimar com base na coluna 'Value'\n",
    "\n",
    "Se usássemos somente a idade do jogador para estimar o overall, como seria?"
   ]
  },
  {
   "cell_type": "markdown",
   "metadata": {},
   "source": [
    "### Vamos dar uma olhada rápida da distribuição dessa variável..."
   ]
  },
  {
   "cell_type": "code",
   "execution_count": null,
   "metadata": {
    "ExecuteTime": {
     "end_time": "2020-05-18T13:28:53.225105Z",
     "start_time": "2020-05-18T13:28:52.385388Z"
    }
   },
   "outputs": [],
   "source": [
    "import seaborn as sns\n",
    "import matplotlib.pyplot as plt\n",
    "\n",
    "sns.scatterplot(data = data, x = 'Value', y = 'Overall')"
   ]
  },
  {
   "cell_type": "markdown",
   "metadata": {},
   "source": [
    "### Precisamos dividir algumas coisas:\n",
    "\n",
    "1. Precisamos dividir o que é característica (x) do que é o valor a ser predito (y)\n",
    "2. Também precisamos dividir o que vai ser usado para treinar o modelo e o que vai ser usado para verificar a performance do modelo."
   ]
  },
  {
   "cell_type": "code",
   "execution_count": null,
   "metadata": {
    "ExecuteTime": {
     "end_time": "2020-05-18T13:43:58.043082Z",
     "start_time": "2020-05-18T13:43:57.338656Z"
    }
   },
   "outputs": [],
   "source": [
    "from sklearn.model_selection import train_test_split\n",
    "\n",
    "# Dividindo x e y\n",
    "x = data_numeric.Value.values\n",
    "y = data_numeric.Overall.values\n",
    "\n",
    "# Dividindo dados para treino e dados para teste\n",
    "x_train, x_test, y_train, y_test = train_test_split(x, y, \n",
    "                                                    test_size = 0.3, \n",
    "                                                    random_state = 42)\n"
   ]
  },
  {
   "cell_type": "code",
   "execution_count": null,
   "metadata": {
    "ExecuteTime": {
     "end_time": "2020-05-18T13:44:21.037625Z",
     "start_time": "2020-05-18T13:44:20.997375Z"
    }
   },
   "outputs": [],
   "source": [
    "x_test"
   ]
  },
  {
   "cell_type": "code",
   "execution_count": null,
   "metadata": {
    "ExecuteTime": {
     "end_time": "2020-05-18T13:44:37.018365Z",
     "start_time": "2020-05-18T13:44:36.996540Z"
    }
   },
   "outputs": [],
   "source": [
    "y_test"
   ]
  },
  {
   "cell_type": "markdown",
   "metadata": {},
   "source": [
    "![train_test_split](../images/train_test.png)"
   ]
  },
  {
   "cell_type": "markdown",
   "metadata": {},
   "source": [
    "### Agora sim podemos treinar o modelo:"
   ]
  },
  {
   "cell_type": "code",
   "execution_count": null,
   "metadata": {
    "ExecuteTime": {
     "end_time": "2020-05-18T13:51:41.651673Z",
     "start_time": "2020-05-18T13:51:41.443001Z"
    }
   },
   "outputs": [],
   "source": [
    "from sklearn.linear_model import LinearRegression\n",
    "\n",
    "# Treinando o modelo\n",
    "model = LinearRegression().fit(x_train.reshape(-1,1), y_train)"
   ]
  },
  {
   "cell_type": "code",
   "execution_count": null,
   "metadata": {
    "ExecuteTime": {
     "end_time": "2020-05-18T13:51:41.697207Z",
     "start_time": "2020-05-18T13:51:41.654150Z"
    }
   },
   "outputs": [],
   "source": [
    "x_test"
   ]
  },
  {
   "cell_type": "code",
   "execution_count": null,
   "metadata": {
    "ExecuteTime": {
     "end_time": "2020-05-18T13:51:42.058871Z",
     "start_time": "2020-05-18T13:51:42.040701Z"
    }
   },
   "outputs": [],
   "source": [
    "# Fazendo as previsões\n",
    "y_pred = model.predict(x_test.reshape(-1,1))\n",
    "y_pred"
   ]
  },
  {
   "cell_type": "code",
   "execution_count": null,
   "metadata": {
    "ExecuteTime": {
     "end_time": "2020-05-18T13:51:44.734514Z",
     "start_time": "2020-05-18T13:51:42.282460Z"
    }
   },
   "outputs": [],
   "source": [
    "# Vamos ver a reta das previsões feitas:\n",
    "sns.regplot(x = x_test, y = y_pred)"
   ]
  },
  {
   "cell_type": "code",
   "execution_count": null,
   "metadata": {
    "ExecuteTime": {
     "end_time": "2020-05-16T01:14:31.157530Z",
     "start_time": "2020-05-16T01:14:26.314311Z"
    }
   },
   "outputs": [],
   "source": [
    "sns.regplot(data = data, x = 'Value', y = 'Overall')"
   ]
  },
  {
   "cell_type": "markdown",
   "metadata": {},
   "source": [
    "### Avaliando o modelo"
   ]
  },
  {
   "cell_type": "code",
   "execution_count": 13,
   "metadata": {
    "ExecuteTime": {
     "end_time": "2020-05-22T02:19:56.300087Z",
     "start_time": "2020-05-22T02:19:56.296210Z"
    }
   },
   "outputs": [],
   "source": [
    "from sklearn.metrics import mean_squared_error, mean_absolute_error, r2_score"
   ]
  },
  {
   "cell_type": "markdown",
   "metadata": {},
   "source": [
    "#### Mean squared error (MSE):\n",
    "Em português, erro quadrático médio, essa métrica penaliza *mais* erros maiores, já que os erros (diferença entre o valor previsto e o correto) são elevados ao quadrado. Podemos ter dificuldade em interpretar no contexto real o que o erro obtido significa. "
   ]
  },
  {
   "cell_type": "code",
   "execution_count": 14,
   "metadata": {
    "ExecuteTime": {
     "end_time": "2020-05-22T02:21:23.510969Z",
     "start_time": "2020-05-22T02:21:23.503905Z"
    }
   },
   "outputs": [
    {
     "data": {
      "text/plain": [
       "40.23938900435588"
      ]
     },
     "execution_count": 14,
     "metadata": {},
     "output_type": "execute_result"
    }
   ],
   "source": [
    "mean_squared_error(y_test, y_pred)"
   ]
  },
  {
   "cell_type": "markdown",
   "metadata": {},
   "source": [
    "#### Mean absolute error (MAE):\n",
    "Em português, erro absoluto médio, essa métrica basicamente faz a média do erro absoluto de cada previsão. Facilita a interpretação no modelo real, mas temos sempre que ter em mente que erros maiores (outliers) podem atrapalhar muito a ideia obtida pela média:"
   ]
  },
  {
   "cell_type": "code",
   "execution_count": 15,
   "metadata": {
    "ExecuteTime": {
     "end_time": "2020-05-22T02:26:06.299613Z",
     "start_time": "2020-05-22T02:26:06.292357Z"
    }
   },
   "outputs": [
    {
     "data": {
      "text/plain": [
       "4.994253480928422"
      ]
     },
     "execution_count": 15,
     "metadata": {},
     "output_type": "execute_result"
    }
   ],
   "source": [
    "mean_absolute_error(y_test, y_pred)"
   ]
  },
  {
   "cell_type": "markdown",
   "metadata": {},
   "source": [
    "#### R<sup>2</sup>:\n",
    "O erro \"R quadrado\" é uma métrica que varia entre -∞ e 1 e é uma razão que indica o quão bom o nosso modelo está em comparação com um modelo \"naive\", que faz a predição com base no valor médio do target. Quanto maior seu valor, melhor é nosso modelo com relação a esse modelo mais simplista."
   ]
  },
  {
   "cell_type": "code",
   "execution_count": 17,
   "metadata": {
    "ExecuteTime": {
     "end_time": "2020-05-22T02:31:58.094079Z",
     "start_time": "2020-05-22T02:31:58.087012Z"
    }
   },
   "outputs": [
    {
     "data": {
      "text/plain": [
       "0.14933268822378598"
      ]
     },
     "execution_count": 17,
     "metadata": {},
     "output_type": "execute_result"
    }
   ],
   "source": [
    "r2_score(y_test, y_pred)"
   ]
  },
  {
   "cell_type": "markdown",
   "metadata": {},
   "source": [
    "## Passo 2: estime com base na coluna 'Age'\n"
   ]
  },
  {
   "cell_type": "code",
   "execution_count": null,
   "metadata": {
    "ExecuteTime": {
     "end_time": "2020-05-18T14:18:08.088180Z",
     "start_time": "2020-05-18T14:18:08.037590Z"
    }
   },
   "outputs": [],
   "source": [
    "# Dividindo x e y\n",
    "#[Codigo aqui]\n",
    "\n",
    "# Dividindo dados para treino e dados para teste\n",
    "#[Codigo aqui]\n",
    "\n",
    "# Treinando o modelo\n",
    "#[Codigo aqui]\n",
    "\n",
    "# Fazendo as predições\n",
    "#[Codigo aqui]\n",
    "\n",
    "# Calculando o erro - medida de qualidade do modelo\n",
    "#[Codigo aqui]"
   ]
  },
  {
   "cell_type": "markdown",
   "metadata": {},
   "source": [
    "## Passo 3: faça o mesmo para a coluna 'Weight'"
   ]
  },
  {
   "cell_type": "code",
   "execution_count": null,
   "metadata": {
    "ExecuteTime": {
     "end_time": "2020-05-18T14:25:11.076096Z",
     "start_time": "2020-05-18T14:25:11.042385Z"
    }
   },
   "outputs": [],
   "source": [
    "# Dividindo x e y\n",
    "#[Codigo aqui]\n",
    "\n",
    "# Dividindo dados para treino e dados para teste\n",
    "#[Codigo aqui]\n",
    "\n",
    "# Treinando o modelo\n",
    "#[Codigo aqui]\n",
    "\n",
    "# Fazendo as predições\n",
    "#[Codigo aqui]\n",
    "\n",
    "# Calculando o erro - medida de qualidade do modelo\n",
    "#[Codigo aqui]"
   ]
  },
  {
   "cell_type": "markdown",
   "metadata": {},
   "source": [
    "## Passo 4: Agora com todas as variáveis numéricas"
   ]
  },
  {
   "cell_type": "code",
   "execution_count": null,
   "metadata": {
    "ExecuteTime": {
     "end_time": "2020-05-22T02:59:09.844177Z",
     "start_time": "2020-05-22T02:59:09.831072Z"
    }
   },
   "outputs": [],
   "source": [
    "# Dividindo x e y\n",
    "x = data_numeric.drop(columns=\"Overall\").values\n",
    "y = data_numeric.Overall.values\n",
    "\n",
    "# Dividindo dados para treino e dados para teste\n",
    "#[Codigo aqui]\n",
    "\n",
    "# Treinando o modelo\n",
    "#[Codigo aqui]\n",
    "\n",
    "# Fazendo as predições\n",
    "#[Codigo aqui]\n",
    "\n",
    "# Calculando o erro - medida de qualidade do modelo\n",
    "#[Codigo aqui]"
   ]
  },
  {
   "cell_type": "markdown",
   "metadata": {},
   "source": [
    "## Interpretação dos coeficientes da regressão:\n",
    "Vamos dar uma olhada nos coeficientes encontrados para cada característica:"
   ]
  },
  {
   "cell_type": "code",
   "execution_count": null,
   "metadata": {
    "ExecuteTime": {
     "end_time": "2020-05-22T02:38:48.256662Z",
     "start_time": "2020-05-22T02:38:48.241294Z"
    }
   },
   "outputs": [],
   "source": [
    "(pd.DataFrame({'feature': data_numeric.columns[:-1],\n",
    "               'coef': model.coef_.round(4)})\n",
    "  .sort_values(by='coef', ascending = False)\n",
    "  .reset_index(drop = True))"
   ]
  },
  {
   "cell_type": "markdown",
   "metadata": {},
   "source": [
    "### Coeficientes e a padronização:\n",
    "Não fizemos uma coisa MUITO importante para usar essas variáveis numéricas: PADRONIZAÇÃO!!!\n",
    "Vamos retreinar o modelo e ver como os coeficientes resultantes são diferentes:"
   ]
  },
  {
   "cell_type": "code",
   "execution_count": null,
   "metadata": {
    "ExecuteTime": {
     "end_time": "2020-05-22T02:42:54.528211Z",
     "start_time": "2020-05-22T02:42:54.457616Z"
    }
   },
   "outputs": [],
   "source": [
    "from sklearn.preprocessing import StandardScaler\n",
    "\n",
    "data_numeric_scaled = StandardScaler().fit_transform(data_numeric.drop(columns=['Overall']))\n",
    "\n",
    "x = data_numeric_scaled\n",
    "y = data_numeric.Overall.values\n",
    "\n",
    "# Dividindo dados para treino e dados para teste\n",
    "x_train, x_test, y_train, y_test = train_test_split(x, y, test_size = 0.3, random_state = 42)\n",
    "\n",
    "# Treinando o modelo\n",
    "model = LinearRegression(normalize = True).fit(x_train, y_train)\n",
    "\n",
    "# Fazendo as previsões\n",
    "y_pred = model.predict(x_test)\n",
    "\n",
    "# Avaliando o modelo\n",
    "mean_absolute_error(y_test, y_pred)"
   ]
  },
  {
   "cell_type": "markdown",
   "metadata": {},
   "source": [
    "O erro é muuuito semelhante, mas vamos olhar a diferença nos coeficientes:"
   ]
  },
  {
   "cell_type": "code",
   "execution_count": null,
   "metadata": {
    "ExecuteTime": {
     "end_time": "2020-05-22T02:42:59.162530Z",
     "start_time": "2020-05-22T02:42:59.148095Z"
    }
   },
   "outputs": [],
   "source": [
    "(pd.DataFrame({'feature': data_numeric.columns[:-1],\n",
    "               'coef': model.coef_.round(4)})\n",
    "  .sort_values(by='coef', ascending = False)\n",
    "  .reset_index(drop = True))"
   ]
  },
  {
   "cell_type": "markdown",
   "metadata": {},
   "source": [
    "### Mais um detalhe: multicolinearidade\n",
    "\n",
    "Basicamente, o problema da multicolinearidade é: se você colocar no conjunto de características duas características que carregam a mesma informação ou que tem relação linear muito forte, seu modelo pode acabar ignorando (colocando um coeficiente baixo) uma das características e isso não significa que ela não é importante para a previsão, só significa que a informação dela, naquele conjunto de características, não foi tão relevante.\n",
    "\n",
    "Portanto, o ideal é retirar das características aquelas com correlação muito forte.\n",
    "\n",
    "Nesse site, ele explica com uns exemplos de futebol essa ideia: https://blog.minitab.com/pt/basta-lidando-com-a-multicolinearidade-na-analise-de-regressao\n",
    "\n",
    "Um artigo científico do IME-USP sobre isso, pra quem gosta de entender mais a fundo matematicamente: https://www.ime.usp.br/~yambar/MI404-Metodos%20Estatisticos/Aula%208-9%20Regress%E3o%20mult%20dim/inete%20adicional%20-%20multicolinearidade%20em%20modelos%20de%20regressao.pdf"
   ]
  },
  {
   "cell_type": "code",
   "execution_count": null,
   "metadata": {
    "ExecuteTime": {
     "end_time": "2020-05-22T02:11:03.857150Z",
     "start_time": "2020-05-22T02:10:58.346935Z"
    }
   },
   "outputs": [],
   "source": [
    "plt.figure(figsize=(18,8))\n",
    "sns.heatmap(data_numeric.corr(), annot=True, fmt=\".1f\");"
   ]
  },
  {
   "cell_type": "markdown",
   "metadata": {},
   "source": [
    "## Próximos passos:\n",
    "\n",
    "- Tente melhorar esse modelo explorando também as características categóricas do conjunto de dados.\n",
    "- Faça outros exercícios de regressão. Nesse material, no diretório notebooks_extras, serão disponibilizados alguns exemplos e você também sempre pode recorrer aos vários desafios disponíveis no Kaggle."
   ]
  }
 ],
 "metadata": {
  "kernelspec": {
   "display_name": "Python 3",
   "language": "python",
   "name": "python3"
  },
  "language_info": {
   "codemirror_mode": {
    "name": "ipython",
    "version": 3
   },
   "file_extension": ".py",
   "mimetype": "text/x-python",
   "name": "python",
   "nbconvert_exporter": "python",
   "pygments_lexer": "ipython3",
   "version": "3.7.1"
  },
  "toc": {
   "base_numbering": 1,
   "nav_menu": {},
   "number_sections": true,
   "sideBar": true,
   "skip_h1_title": false,
   "title_cell": "Table of Contents",
   "title_sidebar": "Contents",
   "toc_cell": false,
   "toc_position": {
    "height": "calc(100% - 180px)",
    "left": "10px",
    "top": "150px",
    "width": "171.179px"
   },
   "toc_section_display": true,
   "toc_window_display": true
  }
 },
 "nbformat": 4,
 "nbformat_minor": 2
}
