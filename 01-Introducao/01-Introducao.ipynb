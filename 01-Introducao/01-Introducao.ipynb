{
 "cells": [
  {
   "cell_type": "markdown",
   "metadata": {
    "slideshow": {
     "slide_type": "slide"
    }
   },
   "source": [
    "<img src=\"http://sonetodigital.com.br/adm/wp-content/uploads/2018/12/logo-fiap.png\" width=\"150\" align=\"left\"/>\n",
    "\n",
    "<br/><br/>\n",
    "\n",
    "<font size=5 color=\"#ed145b\"><b> Engenharia da Computação </b></font><font size=5 color=\"#ed145b\"> - Inteligência Artificial e computacional </font>\n",
    "\n",
    "<font size=4 color=\"#ed145b\"> Profa. Thais Rodrigues Neubauer - profthais.neubauer@fiap.com.br</font>"
   ]
  },
  {
   "cell_type": "markdown",
   "metadata": {
    "ExecuteTime": {
     "end_time": "2020-02-03T20:48:33.817481Z",
     "start_time": "2020-02-03T20:48:33.814029Z"
    },
    "slideshow": {
     "slide_type": "fragment"
    }
   },
   "source": [
    "<font size=5 ><b>Aula 01</b></font>"
   ]
  },
  {
   "cell_type": "markdown",
   "metadata": {
    "slideshow": {
     "slide_type": "slide"
    }
   },
   "source": [
    "## O que é Inteligência Artificial\n",
    "\n",
    "Capacidade de solucionar problemas difíceis - O que é difícil?\n",
    "\n",
    "<img src=\"images/IA.png\" align=\"left\"/>\n",
    "\n",
    "<font size=1>(apud) Stuart J. Russell and Peter Norvig. 2003. Artificial Intelligence: A Modern Approach (2 ed.).Pearson Education.</font>"
   ]
  },
  {
   "cell_type": "markdown",
   "metadata": {
    "slideshow": {
     "slide_type": "slide"
    }
   },
   "source": [
    "## Inteligência Computacional\n",
    "\n",
    "- Um **ramo da Inteligência Artificial**.\n",
    "- Tem o objetivo de usar técnicas computacionais capazes de aprender, se adaptar e evoluir, para desenvolver softwares que possam ser considerados, em algum nível, inteligentes.\n",
    "- Técnicas de Inteligência Computacional que lidam com raciocínio:\n",
    "    \n",
    "    - **indutivo**: redes neurais artificiais e máquinas de vetores de suporte (SVM).\n",
    "    - **aproximado**: lógica Fuzzy.\n",
    "    - **evolutivo**: algoritmos genéticos.\n",
    "\n",
    "<font size=1>IEEE Computational Intelligence Society – Montreal Chapter. 2008. Computational intelligence (CI) Definition. (2008). http://ewh.ieee.org/r7/montreal/cis/</font>\n",
    "\n",
    "<font size=1>Janos Abonyí, Balazs Feil, and Ajith Abraham. 2005. Computational intelligence in data mining. Informatica 29, 1 (2005), 3–12.</font>"
   ]
  },
  {
   "cell_type": "markdown",
   "metadata": {
    "slideshow": {
     "slide_type": "slide"
    }
   },
   "source": [
    "## Raciocínio\n",
    "\n",
    "Exercício da razão pelo qual se procura alcançar o entendimento de atos e fatos, formular ideias, elaborar juízos, deduzir algo a partir de uma ou mais premissas - Raciocínio inferencial.\n",
    "\n",
    "- Raciocínio dedutivo\n",
    "- Raciocínio indutivo\n",
    "- Raciocínio abdutivo"
   ]
  },
  {
   "cell_type": "markdown",
   "metadata": {
    "slideshow": {
     "slide_type": "subslide"
    }
   },
   "source": [
    "\n",
    "### Raciocínio dedutivo (Silogismo) - universal para particular\n",
    "\n",
    "Conhece: p(a,b), p(a,d), p(b,c), p(d,e), p(d,g), p(e,f), p(X,Y) E p(Y,Z) --> a(X,Z)\n",
    "\n",
    "Conclui: a(a,c), a(a,e), a(a,g), a(d,f)\n",
    "\n",
    "---\n",
    "*Todo homem é mortal.*\n",
    "\n",
    "*Aristóteles é um homem.* \n",
    "\n",
    "*Aristóteles é mortal.*\n",
    "\n",
    "---"
   ]
  },
  {
   "cell_type": "markdown",
   "metadata": {
    "slideshow": {
     "slide_type": "subslide"
    }
   },
   "source": [
    "\n",
    "### Raciocínio indutivo - particular pro universal\n",
    "\n",
    "Conhece: p(a,b), p(a,d), p(d,e), p(d,g), p(e,f)\n",
    "\n",
    "Observa: a(a,e), a(d,f)\n",
    "\n",
    "Aprende: p(X,Y) E p(Y,Z) --> a(X,Z)\n",
    "\n",
    "---\n",
    "\n",
    "*O pardal é um pássaro que voa.*\n",
    "\n",
    "*A pomba é um pássaro que voa. *\n",
    "\n",
    "*O urubu é um pássaro que voa. *\n",
    "\n",
    "*Pardal, pomba e urubu são pássaros que vooam. *\n",
    "\n",
    "*Todo pássaro voa.*\n",
    "\n",
    "---\n"
   ]
  },
  {
   "cell_type": "markdown",
   "metadata": {
    "slideshow": {
     "slide_type": "subslide"
    }
   },
   "source": [
    "### Raciocínio abdutivo - particular pro universal para explicar (melhor hipótese)\n",
    "\n",
    "Conhece: p(a,b), p(a,d), p(b,c), p(d,e), p(d,g), p(e,f), p(X,Y) E p(Y,Z) --> a(X,Z)\n",
    "\n",
    "Observa: a(a,c)\n",
    "\n",
    "Explica: p(b,c) ou p(d,c)\n",
    "\n",
    "---\n",
    "\n",
    "*Os telhados estão molhados.*\n",
    "\n",
    "*Logo, choveu.*\n",
    "\n",
    "---\n",
    "\n",
    "*muito usado em investigações, detetives forenses, diagnósticos médicos"
   ]
  },
  {
   "cell_type": "markdown",
   "metadata": {
    "slideshow": {
     "slide_type": "slide"
    }
   },
   "source": [
    "## Aprendizado de máquina (*Machine learning*)\n",
    "- Abordagem de aprendizado para o desenvolvimento de software.\n",
    "- Não necessariamente um conjunto de técnicas!\n",
    "- Diferentes tipos de técnicas podem ser aplicadas em Aprendizado de máquina.\n",
    "- Pode incluir algumas técnicas de Inteligência Computacional.\n",
    "\n",
    "<font size=1>Tom M. Mitchell. 1997. Machine Learning (1st ed.). \n",
    "    McGraw Hill, New York, NY, USA.</font>\n",
    "\n",
    "<font size=1>Simon Haykin. 2009. Neural Networks and Learning Machines (3rd ed.). \n",
    "Pearson Education, NJ, USA. </font>"
   ]
  },
  {
   "cell_type": "markdown",
   "metadata": {
    "slideshow": {
     "slide_type": "slide"
    }
   },
   "source": [
    "\n",
    "## Aprendizado\n",
    "\n",
    "Passar a ter conhecimento sobre, passar a possuir habilidade técnica (em).\n",
    "\n",
    "Exemplo: aprender um novo idioma, aprender judô.\n",
    "\n",
    "\n",
    "<img src=\"images/superv_vs_notsupervis.jpg\" width = 600 align=\"left\"/>\n"
   ]
  },
  {
   "cell_type": "markdown",
   "metadata": {
    "slideshow": {
     "slide_type": "subslide"
    }
   },
   "source": [
    "### Aprendizado supervisionado\n",
    "Processo de aproximação de uma função a partir de um conjunto de dados no qual os dados são descrito por atributos (valores de entrada em uma função) e estão relacionados a uma série de rótulos possíveis (valor de saída de uma função). Geralmente, um algoritmo usado para implementar esse processo itera sobre o conjunto de dados, ajustando alguns parâmetros que determinam a função requerida.\n",
    "\n",
    "### Aprendizado não supervisionado\n",
    "Processo de descoberta de relacionamentos existentes entre os dados de um conjunto de dados, descritos por atributos descritivos. Geralmente, um algoritmo usado para implementar esse processo itera sobre o conjunto de dados analisando as similaridades entre os dados."
   ]
  },
  {
   "cell_type": "markdown",
   "metadata": {
    "slideshow": {
     "slide_type": "slide"
    }
   },
   "source": [
    "## Teste de Turing\n",
    "\n",
    "- No artigo *Computing Machinery and Intelligence*, Turing discutiu as condições para considerar que uma máquina é inteligente.\n",
    "- Ele argumentou que se a máquina pudesse se passar por um humano mediante um observador inteligente, então certamente ela poderia ser considerada inteligente.\n",
    "- Este teste satisfaria a maioria das pessoas, mas não todos os filósofos.\n",
    "- Neste teste, o observador poderia interagir com a máquina e com um humano; o humano tentaria convencer o observador (que era também um humano) de que se tratava realmente de um humano, e a máquina tentaria enganar o observador."
   ]
  },
  {
   "cell_type": "markdown",
   "metadata": {
    "slideshow": {
     "slide_type": "slide"
    }
   },
   "source": [
    "## Agentes\n",
    "- O livro Inteligência Artificial, de Stuart Russel e Peter Norvig é a principal referência para ensino de IA em nível de graduação.\n",
    "- Nesse livro, foi adotada uma abordagem baseada em **agentes**.\n",
    "- **Agente** é tudo que pode ser considerado capaz de perceber seu ambiente por meio de sensores e de agir sobre esse ambiente por meio de atuadores.\n",
    "- **Agentes racionais**: para cada sequência de percepções possível, um agente racional deve selecionar uma ação que se espera que maximize sua medida de desempenho, dada a evidência fornecida pela sequência de percepções e por qualquer conhecimento interno do agente.\n",
    "\n",
    "\n",
    "<font size=1>Russel, S; Norvig, P. Inteligência Artificial. Editora Campus, 2004.</font>"
   ]
  },
  {
   "cell_type": "markdown",
   "metadata": {
    "slideshow": {
     "slide_type": "slide"
    }
   },
   "source": [
    "## Introdução a Python\n",
    "\n",
    "Abra o nosso repositório no [Binder](https://mybinder.org/v2/gh/thaisneubauer/FIAP-3ECA-IA/master)"
   ]
  },
  {
   "cell_type": "markdown",
   "metadata": {
    "slideshow": {
     "slide_type": "subslide"
    }
   },
   "source": [
    "Duas das principais ferramentas para realizar manipular, tratar, sumarizar e visualizar dados em Python são **Numpy** e **Pandas**. São bibliotecas (conjuntos de classes, funções e objetos) feitos para análise de dados. \n",
    "\n",
    "Enquanto Numpy foca em manipulação de vetores e matrizes, muito úteis para realizar operações de álgebra linear (como decomposição de matrizes, calculo de similaridade e distâncias, etc), o Pandas é focado em dados tabulares e manipulações de dados estruturados."
   ]
  },
  {
   "cell_type": "code",
   "execution_count": null,
   "metadata": {
    "ExecuteTime": {
     "end_time": "2020-02-09T22:57:19.888714Z",
     "start_time": "2020-02-09T22:57:19.230546Z"
    },
    "slideshow": {
     "slide_type": "fragment"
    }
   },
   "outputs": [],
   "source": [
    "import pandas as pd\n",
    "import numpy as np"
   ]
  },
  {
   "cell_type": "markdown",
   "metadata": {
    "slideshow": {
     "slide_type": "slide"
    }
   },
   "source": [
    "### Numpy e listas em Python"
   ]
  },
  {
   "cell_type": "code",
   "execution_count": null,
   "metadata": {
    "ExecuteTime": {
     "end_time": "2020-02-09T22:57:20.747599Z",
     "start_time": "2020-02-09T22:57:20.741947Z"
    },
    "slideshow": {
     "slide_type": "fragment"
    }
   },
   "outputs": [],
   "source": [
    "lista_de_ints = [1, 2, 3, 4]\n",
    "lista_de_strings = [\"um\", \"dois\"]\n",
    "lista_de_listas = [[1,2], [1,2,3,4]]\n",
    "outra_lista = [5, 5, \"banana\", 8]"
   ]
  },
  {
   "cell_type": "markdown",
   "metadata": {
    "slideshow": {
     "slide_type": "slide"
    }
   },
   "source": [
    "Listas são pouco indicadas para fazer contas. \n",
    "\n",
    "Suponha que tenhamos duas listas para gerênciar uma compra em uma loja: uma contendo a quantidade de itens, outra o valor dos ítens."
   ]
  },
  {
   "cell_type": "code",
   "execution_count": null,
   "metadata": {
    "ExecuteTime": {
     "end_time": "2020-02-09T22:57:21.592647Z",
     "start_time": "2020-02-09T22:57:21.587733Z"
    },
    "slideshow": {
     "slide_type": "fragment"
    }
   },
   "outputs": [],
   "source": [
    "quantidades = [1, 10, 0, 5, 2]\n",
    "precos = [10.5, 20.3, 100.75, 0.5, 2.0]"
   ]
  },
  {
   "cell_type": "markdown",
   "metadata": {
    "slideshow": {
     "slide_type": "fragment"
    }
   },
   "source": [
    "<div class=\"alert alert-block alert-info\">\n",
    "<b>Exercício:</b>\n",
    "Calcule o preço total da compra do cliente, multiplicando a quantidade pedida do primeiro produto pelo seu preço, a quantidade pedida do segundo produto pelo seu preço e assim por diante.\n",
    "</div>"
   ]
  },
  {
   "cell_type": "markdown",
   "metadata": {
    "slideshow": {
     "slide_type": "fragment"
    }
   },
   "source": [
    "<div class=\"alert alert-block alert-success\">\n",
    "<b>Solução:</b>\n",
    "</div>"
   ]
  },
  {
   "cell_type": "code",
   "execution_count": null,
   "metadata": {
    "slideshow": {
     "slide_type": "fragment"
    }
   },
   "outputs": [],
   "source": []
  },
  {
   "cell_type": "markdown",
   "metadata": {
    "slideshow": {
     "slide_type": "slide"
    }
   },
   "source": [
    "Com Numpy..."
   ]
  },
  {
   "cell_type": "code",
   "execution_count": null,
   "metadata": {
    "ExecuteTime": {
     "end_time": "2020-02-09T22:57:23.494053Z",
     "start_time": "2020-02-09T22:57:23.464971Z"
    },
    "slideshow": {
     "slide_type": "fragment"
    }
   },
   "outputs": [],
   "source": [
    "x = np.array([1, 2, 3])\n",
    "y = np.array([5.2, 3.4, 1.0])\n",
    "x + y"
   ]
  },
  {
   "cell_type": "code",
   "execution_count": null,
   "metadata": {
    "ExecuteTime": {
     "end_time": "2020-02-09T22:57:23.890845Z",
     "start_time": "2020-02-09T22:57:23.868810Z"
    },
    "slideshow": {
     "slide_type": "fragment"
    }
   },
   "outputs": [],
   "source": [
    "x * y"
   ]
  },
  {
   "cell_type": "code",
   "execution_count": null,
   "metadata": {
    "ExecuteTime": {
     "end_time": "2020-02-09T22:58:14.392195Z",
     "start_time": "2020-02-09T22:58:14.383984Z"
    }
   },
   "outputs": [],
   "source": [
    "quantidades = np.array(quantidades)\n",
    "precos = np.array(precos)"
   ]
  },
  {
   "cell_type": "markdown",
   "metadata": {
    "slideshow": {
     "slide_type": "slide"
    }
   },
   "source": [
    "#### Acessando e mudando elementos do array"
   ]
  },
  {
   "cell_type": "markdown",
   "metadata": {
    "slideshow": {
     "slide_type": "fragment"
    }
   },
   "source": [
    "Algumas vezes, precisamos acessar (por qualquer motivo que seja) um sub-conjunto de um array do numpy. Pode ser que queiramos usar apenas um elemento (ex.: precisamos mandar para alguém apenas o preço do segundo item). Outras vezes, precisamos de um pedaço maior do array, em outras palavras, um sub-array.\n",
    "\n",
    "Para acessar apenas um elemento do array, podemos usar a sintaxe `a[i]`. No caso dos preços, por exemplo, podemos acessar o preço do terceiro item fazendo:"
   ]
  },
  {
   "cell_type": "code",
   "execution_count": null,
   "metadata": {
    "ExecuteTime": {
     "end_time": "2020-02-09T22:58:18.349680Z",
     "start_time": "2020-02-09T22:58:18.332502Z"
    },
    "slideshow": {
     "slide_type": "fragment"
    }
   },
   "outputs": [],
   "source": [
    "precos[2]"
   ]
  },
  {
   "cell_type": "markdown",
   "metadata": {
    "slideshow": {
     "slide_type": "fragment"
    }
   },
   "source": [
    "<div class=\"alert alert-block alert-warning\">\n",
    "<b>Atenção:</b>\n",
    "\n",
    "Assim como nas listas, a contagem dos índices começa de zero. Ou seja, `0` é a posição do primeiro elemento, `1` é a posição do segundo etc.\n",
    "</div>"
   ]
  },
  {
   "cell_type": "markdown",
   "metadata": {
    "slideshow": {
     "slide_type": "subslide"
    }
   },
   "source": [
    "Podemos também usar listas para acessar multiplos elementos de uma vez, fazendo `a[[1,2,3,4]]`. Por exemplo, se quisermos os preços dos três primeiros itens, podemos fazer: "
   ]
  },
  {
   "cell_type": "code",
   "execution_count": null,
   "metadata": {
    "ExecuteTime": {
     "end_time": "2020-02-09T22:58:19.640033Z",
     "start_time": "2020-02-09T22:58:19.625116Z"
    },
    "slideshow": {
     "slide_type": "fragment"
    }
   },
   "outputs": [],
   "source": [
    "precos[[0,1,2]]"
   ]
  },
  {
   "cell_type": "markdown",
   "metadata": {
    "slideshow": {
     "slide_type": "slide"
    }
   },
   "source": [
    "Para acessar elementos contíguos (ou seja, adjacentes) como no caso acima, podemos também usar o que é chamado de `slicing`. Slices são escritos como `i:j` e significam algo como \"acessar os itens da posição `i` (inclusa) até a posição `j` (não inclusa)\". Por exemplo, para pegar os preços dos três primeiros itens, faríamos:"
   ]
  },
  {
   "cell_type": "code",
   "execution_count": null,
   "metadata": {
    "ExecuteTime": {
     "end_time": "2020-02-09T22:58:22.070843Z",
     "start_time": "2020-02-09T22:58:22.062351Z"
    },
    "slideshow": {
     "slide_type": "fragment"
    }
   },
   "outputs": [],
   "source": [
    "precos[0:3]"
   ]
  },
  {
   "cell_type": "markdown",
   "metadata": {
    "slideshow": {
     "slide_type": "subslide"
    }
   },
   "source": [
    "<div class=\"alert alert-block alert-info\">\n",
    "<b>Exercício:</b>\n",
    "\n",
    "Sobre o array `x`, encontre:\n",
    "    \n",
    "* O décimo terceiro elemento\n",
    "* Um sub-array com o primeiro, terceiro e décimo elemento\n",
    "* Um sub-array com os 5 primeiros elementos\n",
    "</div>"
   ]
  },
  {
   "cell_type": "code",
   "execution_count": null,
   "metadata": {
    "ExecuteTime": {
     "end_time": "2020-02-09T22:58:26.781214Z",
     "start_time": "2020-02-09T22:58:26.771268Z"
    },
    "slideshow": {
     "slide_type": "fragment"
    }
   },
   "outputs": [],
   "source": [
    "x = np.random.randint(0, 100, size=30)"
   ]
  },
  {
   "cell_type": "code",
   "execution_count": null,
   "metadata": {
    "ExecuteTime": {
     "end_time": "2020-02-09T22:58:27.439145Z",
     "start_time": "2020-02-09T22:58:27.428352Z"
    },
    "slideshow": {
     "slide_type": "fragment"
    }
   },
   "outputs": [],
   "source": [
    "x"
   ]
  },
  {
   "cell_type": "markdown",
   "metadata": {
    "slideshow": {
     "slide_type": "fragment"
    }
   },
   "source": [
    "<div class=\"alert alert-block alert-success\">\n",
    "<b>Solução:</b>\n",
    "</div>"
   ]
  },
  {
   "cell_type": "code",
   "execution_count": null,
   "metadata": {
    "slideshow": {
     "slide_type": "fragment"
    }
   },
   "outputs": [],
   "source": []
  },
  {
   "cell_type": "markdown",
   "metadata": {
    "slideshow": {
     "slide_type": "slide"
    }
   },
   "source": [
    "#### Máscaras\n",
    "\n",
    "Para acessar elementos de um array, também podemos usar uma lista de Booleanos (`True` ou `False`) do mesmo tamanho do array. Esta lista é chamada de máscara.\n",
    "\n",
    "A máscara representa quais elementos você quer preservar (representado por `True`) e quais você quer descartar (`False`) do seu resultado final. Por exemplo, para acessar os preços do primeiro e do terceiro item, fazemos:"
   ]
  },
  {
   "cell_type": "code",
   "execution_count": null,
   "metadata": {
    "ExecuteTime": {
     "end_time": "2020-02-09T22:58:32.546616Z",
     "start_time": "2020-02-09T22:58:32.530438Z"
    },
    "slideshow": {
     "slide_type": "fragment"
    }
   },
   "outputs": [],
   "source": [
    "precos[[True, False, True, False, False]]"
   ]
  },
  {
   "cell_type": "markdown",
   "metadata": {
    "slideshow": {
     "slide_type": "fragment"
    }
   },
   "source": [
    "<div class=\"alert alert-block alert-warning\">\n",
    "<b>Atenção:</b>\n",
    "\n",
    "Você também pode usar um np.array de booleanos se desejar. Usamos a lista por simplicidade.\n",
    "</div>"
   ]
  },
  {
   "cell_type": "markdown",
   "metadata": {
    "slideshow": {
     "slide_type": "subslide"
    }
   },
   "source": [
    "O método da máscara pode parecer inútil, mas é muito útil quando você quer filtrar elementos de um array. Por exemplo, imagine que queremos somente os preços maiores que 10:"
   ]
  },
  {
   "cell_type": "code",
   "execution_count": null,
   "metadata": {
    "ExecuteTime": {
     "end_time": "2020-02-09T22:58:35.267579Z",
     "start_time": "2020-02-09T22:58:35.250491Z"
    },
    "slideshow": {
     "slide_type": "fragment"
    }
   },
   "outputs": [],
   "source": [
    "mascara = precos > 10"
   ]
  },
  {
   "cell_type": "code",
   "execution_count": null,
   "metadata": {
    "ExecuteTime": {
     "end_time": "2020-02-09T22:58:36.075717Z",
     "start_time": "2020-02-09T22:58:36.070188Z"
    },
    "slideshow": {
     "slide_type": "fragment"
    }
   },
   "outputs": [],
   "source": [
    "# A máscara é um np.array de booleanos\n",
    "mascara"
   ]
  },
  {
   "cell_type": "code",
   "execution_count": null,
   "metadata": {
    "ExecuteTime": {
     "end_time": "2020-02-09T22:58:37.497932Z",
     "start_time": "2020-02-09T22:58:37.481929Z"
    },
    "slideshow": {
     "slide_type": "fragment"
    }
   },
   "outputs": [],
   "source": [
    "# Usamos então a máscara para acessar os elementos que queremos\n",
    "precos[mascara]"
   ]
  },
  {
   "cell_type": "markdown",
   "metadata": {
    "slideshow": {
     "slide_type": "subslide"
    }
   },
   "source": [
    "<div class=\"alert alert-block alert-info\">\n",
    "<b>Exercício:</b>\n",
    "\n",
    "Alguns produtos tiveram mais de uma unidade pedida pelo usuário. Encontre os preços desse produtos.\n",
    "</div>"
   ]
  },
  {
   "cell_type": "markdown",
   "metadata": {
    "slideshow": {
     "slide_type": "fragment"
    }
   },
   "source": [
    "<div class=\"alert alert-block alert-success\">\n",
    "<b>Solução:</b>\n",
    "</div>"
   ]
  },
  {
   "cell_type": "code",
   "execution_count": null,
   "metadata": {
    "slideshow": {
     "slide_type": "fragment"
    }
   },
   "outputs": [],
   "source": []
  },
  {
   "cell_type": "markdown",
   "metadata": {
    "slideshow": {
     "slide_type": "slide"
    }
   },
   "source": [
    "#### Alterando elementos do array"
   ]
  },
  {
   "cell_type": "markdown",
   "metadata": {
    "slideshow": {
     "slide_type": "fragment"
    }
   },
   "source": [
    "Se você precisar, pode alterar elementos de um array. Para fazer isso é muito simples, para mudar o preço do terceiro para 90, fazemos:"
   ]
  },
  {
   "cell_type": "code",
   "execution_count": null,
   "metadata": {
    "ExecuteTime": {
     "end_time": "2020-02-09T22:58:43.241990Z",
     "start_time": "2020-02-09T22:58:43.232479Z"
    },
    "slideshow": {
     "slide_type": "fragment"
    }
   },
   "outputs": [],
   "source": [
    "precos[2] = 90"
   ]
  },
  {
   "cell_type": "code",
   "execution_count": null,
   "metadata": {
    "ExecuteTime": {
     "end_time": "2020-02-09T22:58:43.999758Z",
     "start_time": "2020-02-09T22:58:43.987556Z"
    },
    "slideshow": {
     "slide_type": "fragment"
    }
   },
   "outputs": [],
   "source": [
    "precos"
   ]
  },
  {
   "cell_type": "markdown",
   "metadata": {
    "slideshow": {
     "slide_type": "subslide"
    }
   },
   "source": [
    "Mais do que isso, você pode alterar multiplos elementos de uma vez! Imagine que você queira dar um desconto de 50% nos três primeiros itens da lista. Basta fazer:"
   ]
  },
  {
   "cell_type": "code",
   "execution_count": null,
   "metadata": {
    "ExecuteTime": {
     "end_time": "2020-02-09T22:58:45.468348Z",
     "start_time": "2020-02-09T22:58:45.462236Z"
    },
    "slideshow": {
     "slide_type": "fragment"
    }
   },
   "outputs": [],
   "source": [
    "precos[0:3] = precos[0:3] / 2"
   ]
  },
  {
   "cell_type": "code",
   "execution_count": null,
   "metadata": {
    "ExecuteTime": {
     "end_time": "2020-02-09T22:58:46.218316Z",
     "start_time": "2020-02-09T22:58:46.212456Z"
    },
    "slideshow": {
     "slide_type": "fragment"
    }
   },
   "outputs": [],
   "source": [
    "precos"
   ]
  },
  {
   "cell_type": "markdown",
   "metadata": {
    "slideshow": {
     "slide_type": "slide"
    }
   },
   "source": [
    "#### Numpy Arrays de multiplas dimensões"
   ]
  },
  {
   "cell_type": "markdown",
   "metadata": {
    "slideshow": {
     "slide_type": "fragment"
    }
   },
   "source": [
    "![title](images/arrays.png)"
   ]
  },
  {
   "cell_type": "markdown",
   "metadata": {
    "slideshow": {
     "slide_type": "subslide"
    }
   },
   "source": [
    "Numpy dá ferramentas excelentes para a manipulação de vetores (no sentido matemático). No entanto, também é ideal quando lidamos com dados de dimensionalidade mais alta, como matrizes ou arrays em 3D. Matrizes, por serem bidimensionais (altura e largura), são capazer de representar objetos como rotações e imagens preto e branco. Arrays 3D podem ser usados para representar imagens coloridas (onde a terceira dimensão é a cor), ou um vídeo (onde a terceira dimensão é o tempo)."
   ]
  },
  {
   "cell_type": "markdown",
   "metadata": {
    "slideshow": {
     "slide_type": "fragment"
    }
   },
   "source": [
    "Para criar uma matriz, basta fazer:"
   ]
  },
  {
   "cell_type": "code",
   "execution_count": null,
   "metadata": {
    "ExecuteTime": {
     "end_time": "2020-02-09T22:58:49.975351Z",
     "start_time": "2020-02-09T22:58:49.949489Z"
    },
    "slideshow": {
     "slide_type": "fragment"
    }
   },
   "outputs": [],
   "source": [
    "m1 = np.array([[1,2,3], [4,5,6]])"
   ]
  },
  {
   "cell_type": "code",
   "execution_count": null,
   "metadata": {
    "ExecuteTime": {
     "end_time": "2020-02-09T22:58:50.551243Z",
     "start_time": "2020-02-09T22:58:50.544418Z"
    },
    "slideshow": {
     "slide_type": "fragment"
    }
   },
   "outputs": [],
   "source": [
    "m1"
   ]
  },
  {
   "cell_type": "markdown",
   "metadata": {
    "slideshow": {
     "slide_type": "subslide"
    }
   },
   "source": [
    "Podemos também criar uma matriz aleatória, fazendo:"
   ]
  },
  {
   "cell_type": "code",
   "execution_count": null,
   "metadata": {
    "ExecuteTime": {
     "end_time": "2020-02-09T22:58:51.497542Z",
     "start_time": "2020-02-09T22:58:51.488879Z"
    },
    "slideshow": {
     "slide_type": "fragment"
    }
   },
   "outputs": [],
   "source": [
    "m2 = np.random.randint(0, 10, size=(3, 2))"
   ]
  },
  {
   "cell_type": "code",
   "execution_count": null,
   "metadata": {
    "ExecuteTime": {
     "end_time": "2020-02-09T22:58:52.197811Z",
     "start_time": "2020-02-09T22:58:52.178715Z"
    },
    "slideshow": {
     "slide_type": "fragment"
    }
   },
   "outputs": [],
   "source": [
    "m2"
   ]
  },
  {
   "cell_type": "markdown",
   "metadata": {
    "slideshow": {
     "slide_type": "subslide"
    }
   },
   "source": [
    "Como são matrizes, podemos fazer operações entre elas, como por exemplo a multiplicação matricial:"
   ]
  },
  {
   "cell_type": "code",
   "execution_count": null,
   "metadata": {
    "ExecuteTime": {
     "end_time": "2020-02-09T22:58:53.849817Z",
     "start_time": "2020-02-09T22:58:53.843780Z"
    },
    "slideshow": {
     "slide_type": "fragment"
    }
   },
   "outputs": [],
   "source": [
    "np.dot(m1, m2)"
   ]
  },
  {
   "cell_type": "markdown",
   "metadata": {
    "slideshow": {
     "slide_type": "subslide"
    }
   },
   "source": [
    "Você também consegue transpor uma matriz, fazendo simplesmente:"
   ]
  },
  {
   "cell_type": "code",
   "execution_count": null,
   "metadata": {
    "ExecuteTime": {
     "end_time": "2020-02-09T22:58:55.145054Z",
     "start_time": "2020-02-09T22:58:55.125552Z"
    },
    "slideshow": {
     "slide_type": "fragment"
    }
   },
   "outputs": [],
   "source": [
    "m1.T"
   ]
  },
  {
   "cell_type": "markdown",
   "metadata": {
    "slideshow": {
     "slide_type": "fragment"
    }
   },
   "source": [
    "Incrível! Diversas operação estão disponíveis no `numpy` e também em outras bibliotecas como `scipy`."
   ]
  },
  {
   "cell_type": "markdown",
   "metadata": {
    "slideshow": {
     "slide_type": "subslide"
    }
   },
   "source": [
    "#### Acessando dados"
   ]
  },
  {
   "cell_type": "markdown",
   "metadata": {
    "slideshow": {
     "slide_type": "fragment"
    }
   },
   "source": [
    "Para acessar os dados, basta usar `matriz[linha, coluna]` onde `linha` é a posição da linha e `coluna` é a posição da coluna. Por exemplo, para acessarmos a primeira linha e segunda coluna de uma matriz, fazemos:"
   ]
  },
  {
   "cell_type": "code",
   "execution_count": null,
   "metadata": {
    "ExecuteTime": {
     "end_time": "2020-02-09T22:58:57.480577Z",
     "start_time": "2020-02-09T22:58:57.468398Z"
    },
    "slideshow": {
     "slide_type": "fragment"
    }
   },
   "outputs": [],
   "source": [
    "m1[0, 1]"
   ]
  },
  {
   "cell_type": "markdown",
   "metadata": {
    "slideshow": {
     "slide_type": "subslide"
    }
   },
   "source": [
    "Técnicas para acessar dados que funcionam para arrays de 1 dimensão, também funcionam aqui. Um exemplo é usar slices:"
   ]
  },
  {
   "cell_type": "code",
   "execution_count": null,
   "metadata": {
    "ExecuteTime": {
     "end_time": "2020-02-09T22:58:58.634621Z",
     "start_time": "2020-02-09T22:58:58.628332Z"
    },
    "slideshow": {
     "slide_type": "fragment"
    }
   },
   "outputs": [],
   "source": [
    "m1[0:2, 0:2]"
   ]
  },
  {
   "cell_type": "markdown",
   "metadata": {
    "slideshow": {
     "slide_type": "subslide"
    }
   },
   "source": [
    "E também máscaras. Por exemplo, podemos querer só as linhas da matriz cuja segunda coluna tem valor superior a zero:"
   ]
  },
  {
   "cell_type": "code",
   "execution_count": null,
   "metadata": {
    "ExecuteTime": {
     "end_time": "2020-02-09T22:58:59.869179Z",
     "start_time": "2020-02-09T22:58:59.846575Z"
    },
    "slideshow": {
     "slide_type": "fragment"
    }
   },
   "outputs": [],
   "source": [
    "mascara = m2[:, 1] > 0  # mascara das linhas cuja segunda coluna é superior a zero\n",
    "m2[mascara, :]"
   ]
  },
  {
   "cell_type": "markdown",
   "metadata": {
    "slideshow": {
     "slide_type": "subslide"
    }
   },
   "source": [
    "<div class=\"alert alert-block alert-info\">\n",
    "<b>Exercício:</b>\n",
    "\n",
    "Crie uma matriz do numpy com números aleatórios de 0 a 100. O tamanho da matriz deve ser 100 linhas por 50 colunas. Depois, use a técnica da máscara para selecionar só as linhas da matriz cujo valor da terceira coluna seja maior do que o da primeira coluna. Quantas linhas sobraram?\n",
    "</div>"
   ]
  },
  {
   "cell_type": "markdown",
   "metadata": {
    "slideshow": {
     "slide_type": "fragment"
    }
   },
   "source": [
    "<div class=\"alert alert-block alert-success\">\n",
    "<b>Solução:</b>\n",
    "</div>"
   ]
  },
  {
   "cell_type": "code",
   "execution_count": null,
   "metadata": {
    "slideshow": {
     "slide_type": "fragment"
    }
   },
   "outputs": [],
   "source": []
  },
  {
   "cell_type": "markdown",
   "metadata": {
    "slideshow": {
     "slide_type": "slide"
    }
   },
   "source": [
    "#### Operações de agregação"
   ]
  },
  {
   "cell_type": "markdown",
   "metadata": {
    "slideshow": {
     "slide_type": "fragment"
    }
   },
   "source": [
    "Com numpy, você consegue agregar dados com extrema facilidade. Por exemplo, é possível calcular soma, média, desvio padrão, etc. de uma matrix por linha, or coluna ou entre todos os elementos. Essas operações facilitam muito a computação de estatisticas de seus dados.\n",
    "\n",
    "Por exemplo, muitos dos modelos de machine learning funcionam melhor se os dados estiverem normalizadas, ou seja, subtraído da sua média e divido pela variância. Isso (usualmente, dependendo da distribuição original) faz com que os dados tenham a média 0 e o desvio padrão 1."
   ]
  },
  {
   "cell_type": "markdown",
   "metadata": {
    "slideshow": {
     "slide_type": "subslide"
    }
   },
   "source": [
    "![standardization](images/standardization.jpg)"
   ]
  },
  {
   "cell_type": "markdown",
   "metadata": {
    "slideshow": {
     "slide_type": "subslide"
    }
   },
   "source": [
    " Em numpy, imagine que temos uma matriz cujas linhas representam pessoas, e uma coluna representa a altura (cms) e a outra coluna o peso da pessoa (em kgs). Para normalizar as alturas e os pesos, você poderia fazer:"
   ]
  },
  {
   "cell_type": "code",
   "execution_count": null,
   "metadata": {
    "ExecuteTime": {
     "end_time": "2020-02-09T22:59:03.413674Z",
     "start_time": "2020-02-09T22:59:03.396748Z"
    },
    "slideshow": {
     "slide_type": "fragment"
    }
   },
   "outputs": [],
   "source": [
    "# Criando alturas e pesos aleatórios \n",
    "alturas_pesos = np.concatenate([np.random.randint(140, 200, size=(10,1)), np.random.randint(60, 110, size=(10, 1))], axis=1)\n",
    "alturas_pesos"
   ]
  },
  {
   "cell_type": "code",
   "execution_count": null,
   "metadata": {
    "ExecuteTime": {
     "end_time": "2020-02-09T22:59:06.228642Z",
     "start_time": "2020-02-09T22:59:06.221042Z"
    },
    "slideshow": {
     "slide_type": "fragment"
    }
   },
   "outputs": [],
   "source": [
    "# normalizando\n",
    "(alturas_pesos - alturas_pesos.mean(axis=0)) / alturas_pesos.std(axis=0)"
   ]
  },
  {
   "cell_type": "markdown",
   "metadata": {
    "slideshow": {
     "slide_type": "subslide"
    }
   },
   "source": [
    "O diagrama abaixo mostra como o parâmetro `axis` afeta o calculo da média e do desvio padrão. Mudar esse parâmetro permite você calcular a média por linha, por coluna, ou geral do seus dados."
   ]
  },
  {
   "cell_type": "markdown",
   "metadata": {
    "slideshow": {
     "slide_type": "fragment"
    }
   },
   "source": [
    "![Eixos de Agregação](images/agregacao_numpy.png)"
   ]
  },
  {
   "cell_type": "markdown",
   "metadata": {
    "slideshow": {
     "slide_type": "slide"
    }
   },
   "source": [
    "### Pandas"
   ]
  },
  {
   "cell_type": "markdown",
   "metadata": {
    "slideshow": {
     "slide_type": "fragment"
    }
   },
   "source": [
    "<img src=\"images/pandas.jpeg\" width=400 align=\"center\">"
   ]
  },
  {
   "cell_type": "markdown",
   "metadata": {
    "slideshow": {
     "slide_type": "fragment"
    }
   },
   "source": [
    "Pandas é uma biblioteca para Python, desenvolvida para manipular dados tabulares. Essa biblioteca pode não só substituir o excel por uma alternativa mais flexível e programático, mas também é ideal para integras dados com bibliotecas de machine learning, como Sklearn e Tensorflow, que já estão preparados para lidar com dados carregados via pandas."
   ]
  },
  {
   "cell_type": "markdown",
   "metadata": {
    "slideshow": {
     "slide_type": "slide"
    }
   },
   "source": [
    "Para essa parte da aula, usaremos os dados do jogo FIFA 19. Esses dados contém informações sobre todos os jogadores presentes no jogo, de diversos clubes ao redor do mundo. Esses dados podem ser [encontrados no Kaggle](https://www.kaggle.com/karangadiya/fifa19). Apesar de lúdico, esses dados têm muitas das características de dados que encontramos normalmente como data scientists: são dados brutos de indivíduos, de onde queremos extrair informações e padrões.\n",
    "\n",
    "![fifa](images/fifa.jpeg)\n",
    "\n",
    "Nesta aula, usaremos a biblioteca Pandas para extrair informações básicas e responder perguntas sobre nossos dados.\n",
    "\n",
    "Exemplos de uso deste dataset no futuro: *clustering* dos jogadores, previsão de sua habilidade geral (*Overall*) com base em suas estatísticas, visualização dos dados, etc. Muitas destas aplicações podem ser encontradas em [notebooks do Kaggle](https://www.kaggle.com/karangadiya/fifa19/kernels)."
   ]
  },
  {
   "cell_type": "markdown",
   "metadata": {
    "slideshow": {
     "slide_type": "slide"
    }
   },
   "source": [
    "#### Baixando e Carregando dados"
   ]
  },
  {
   "cell_type": "code",
   "execution_count": null,
   "metadata": {
    "ExecuteTime": {
     "end_time": "2020-02-09T22:59:12.315467Z",
     "start_time": "2020-02-09T22:59:11.753980Z"
    },
    "slideshow": {
     "slide_type": "fragment"
    }
   },
   "outputs": [],
   "source": [
    "data = pd.read_csv(\"data/data.csv\", index_col=0)"
   ]
  },
  {
   "cell_type": "code",
   "execution_count": null,
   "metadata": {
    "ExecuteTime": {
     "end_time": "2020-02-09T22:59:12.511568Z",
     "start_time": "2020-02-09T22:59:12.319776Z"
    },
    "slideshow": {
     "slide_type": "subslide"
    }
   },
   "outputs": [],
   "source": [
    "data"
   ]
  },
  {
   "cell_type": "code",
   "execution_count": null,
   "metadata": {
    "ExecuteTime": {
     "end_time": "2020-02-09T22:59:12.531344Z",
     "start_time": "2020-02-09T22:59:12.513775Z"
    },
    "slideshow": {
     "slide_type": "fragment"
    }
   },
   "outputs": [],
   "source": [
    "data.shape"
   ]
  },
  {
   "cell_type": "code",
   "execution_count": null,
   "metadata": {
    "ExecuteTime": {
     "end_time": "2020-02-09T22:59:13.929697Z",
     "start_time": "2020-02-09T22:59:13.909386Z"
    },
    "slideshow": {
     "slide_type": "subslide"
    }
   },
   "outputs": [],
   "source": [
    "data.columns"
   ]
  },
  {
   "cell_type": "code",
   "execution_count": null,
   "metadata": {
    "ExecuteTime": {
     "end_time": "2020-02-09T22:59:15.468160Z",
     "start_time": "2020-02-09T22:59:15.243750Z"
    },
    "slideshow": {
     "slide_type": "subslide"
    }
   },
   "outputs": [],
   "source": [
    "data.describe()"
   ]
  },
  {
   "cell_type": "code",
   "execution_count": null,
   "metadata": {
    "ExecuteTime": {
     "end_time": "2020-02-09T22:59:16.718577Z",
     "start_time": "2020-02-09T22:59:16.571470Z"
    },
    "slideshow": {
     "slide_type": "subslide"
    }
   },
   "outputs": [],
   "source": [
    "data.info()"
   ]
  },
  {
   "cell_type": "markdown",
   "metadata": {
    "slideshow": {
     "slide_type": "slide"
    }
   },
   "source": [
    "#### Acessando dados de uma tabela"
   ]
  },
  {
   "cell_type": "markdown",
   "metadata": {
    "slideshow": {
     "slide_type": "fragment"
    }
   },
   "source": [
    "Você consegue acessar uma coluna inteira da tabela usando `df.nomeDaColuna`"
   ]
  },
  {
   "cell_type": "code",
   "execution_count": null,
   "metadata": {
    "ExecuteTime": {
     "end_time": "2020-02-09T22:59:18.976253Z",
     "start_time": "2020-02-09T22:59:18.967624Z"
    },
    "slideshow": {
     "slide_type": "fragment"
    }
   },
   "outputs": [],
   "source": [
    "data.Name"
   ]
  },
  {
   "cell_type": "markdown",
   "metadata": {
    "slideshow": {
     "slide_type": "fragment"
    }
   },
   "source": [
    "<div class=\"alert alert-block alert-warning\">\n",
    "<b>Atenção:</b>\n",
    "\n",
    "Dessa maneira não é possível acessar colunas cujos nomes contém espaços. Nesses casos, prefira o método `.loc`.\n",
    "</div>"
   ]
  },
  {
   "cell_type": "markdown",
   "metadata": {
    "slideshow": {
     "slide_type": "subslide"
    }
   },
   "source": [
    "\n",
    "Além de usar o método acima de acessar, existem outras duas maneiras de acessar dados em pandas: uma usando o método `loc` (mais comum) e outra usando o método `iloc`. Em ambos os casos é possível acessar\n",
    "\n",
    "* Um elemento da tabela (em geral um `int`, `float` ou `str`)\n",
    "* Uma coluna (que em pandas é do tipo `pd.Series`)\n",
    "* Uma sub-tabela (que também é do tipo `pd.DataFrame`, assim como a tabela original)"
   ]
  },
  {
   "cell_type": "markdown",
   "metadata": {
    "slideshow": {
     "slide_type": "subslide"
    }
   },
   "source": [
    "##### .iloc"
   ]
  },
  {
   "cell_type": "markdown",
   "metadata": {
    "slideshow": {
     "slide_type": "fragment"
    }
   },
   "source": [
    "O método mais simples é o `iloc`, que deixa você acessar os elementos da tabela usando os números das posições das colunas e das linhas. Isso é chamado de **acesso posicional**. Você sempre usa esse método como `df.iloc[linhas, colunas]`, onde `linhas` e `colunas` podem ser:\n",
    "\n",
    "* Inteiros, ex. 5.\n",
    "* Uma lista de inteiros, ex. `[4, 3, 0]`.\n",
    "* Um objeto slice com inteiros, ex. `1:7`.\n",
    "* Um array de booleanos, ex `[false, true, false]`.\n",
    "\n",
    "Por exemplo, se você quiser acessar a linha 0 e a coluna 1, você faz:"
   ]
  },
  {
   "cell_type": "code",
   "execution_count": null,
   "metadata": {
    "ExecuteTime": {
     "end_time": "2020-02-09T22:59:24.472821Z",
     "start_time": "2020-02-09T22:59:24.457393Z"
    },
    "slideshow": {
     "slide_type": "fragment"
    }
   },
   "outputs": [],
   "source": [
    "data.iloc[0, 1]"
   ]
  },
  {
   "cell_type": "markdown",
   "metadata": {
    "slideshow": {
     "slide_type": "subslide"
    }
   },
   "source": [
    "Agora, usando listas de inteiros, é possível acessar a linha 0 e 1, e as colunas 1 e 2:"
   ]
  },
  {
   "cell_type": "code",
   "execution_count": null,
   "metadata": {
    "ExecuteTime": {
     "end_time": "2020-02-09T22:59:25.358949Z",
     "start_time": "2020-02-09T22:59:25.338048Z"
    },
    "slideshow": {
     "slide_type": "fragment"
    }
   },
   "outputs": [],
   "source": [
    "data.iloc[[0, 1], [1, 2]]"
   ]
  },
  {
   "cell_type": "markdown",
   "metadata": {
    "slideshow": {
     "slide_type": "subslide"
    }
   },
   "source": [
    "É possível selecionar multiplas linhas e colunas com `slices` usando ranges como `n:m` ao invés de números"
   ]
  },
  {
   "cell_type": "code",
   "execution_count": null,
   "metadata": {
    "ExecuteTime": {
     "end_time": "2020-02-09T22:59:26.161161Z",
     "start_time": "2020-02-09T22:59:26.133457Z"
    },
    "slideshow": {
     "slide_type": "fragment"
    }
   },
   "outputs": [],
   "source": [
    "data.iloc[0:5, 0:3]"
   ]
  },
  {
   "cell_type": "markdown",
   "metadata": {
    "slideshow": {
     "slide_type": "subslide"
    }
   },
   "source": [
    "Podemos misturar também!"
   ]
  },
  {
   "cell_type": "code",
   "execution_count": null,
   "metadata": {
    "ExecuteTime": {
     "end_time": "2020-02-09T22:59:27.169705Z",
     "start_time": "2020-02-09T22:59:27.162102Z"
    },
    "slideshow": {
     "slide_type": "fragment"
    }
   },
   "outputs": [],
   "source": [
    "data.iloc[0:10, 1]"
   ]
  },
  {
   "cell_type": "markdown",
   "metadata": {
    "slideshow": {
     "slide_type": "subslide"
    }
   },
   "source": [
    "##### .loc"
   ]
  },
  {
   "cell_type": "markdown",
   "metadata": {
    "slideshow": {
     "slide_type": "fragment"
    }
   },
   "source": [
    "Também é possível acessar dados partir dos `nomes de linhas e de colunas`, usando o método `loc`. Esse método usa os índices das linhas (que são basicamente os \"nomes\" das linhas, e os nomes das colunas como forma de acessar os dados da tabela. Esse método é usado como `df.loc[linhas, colunas]`, onde `linhas` e `colunas` podem ser:\n",
    "\n",
    "* Um label único, como por exemplo `5` ou `'a'`, (note que 5 é interpretado como nome do índice nesse caso, e não como sua posição).\n",
    "* Uma lista de labels, ex `['a', 'b', 'c']`.\n",
    "* Um objeto slice com labels como `'a':'f'`.\n",
    "* Um array de booleanos, ex `[false, true, false]`."
   ]
  },
  {
   "cell_type": "code",
   "execution_count": null,
   "metadata": {
    "ExecuteTime": {
     "end_time": "2020-02-09T22:59:28.681646Z",
     "start_time": "2020-02-09T22:59:28.666965Z"
    },
    "slideshow": {
     "slide_type": "fragment"
    }
   },
   "outputs": [],
   "source": [
    "data.loc[1, \"Name\"]"
   ]
  },
  {
   "cell_type": "markdown",
   "metadata": {
    "slideshow": {
     "slide_type": "subslide"
    }
   },
   "source": [
    "Também é possível usar listas de nomes que você quer acessar:"
   ]
  },
  {
   "cell_type": "code",
   "execution_count": null,
   "metadata": {
    "ExecuteTime": {
     "end_time": "2020-02-09T22:59:29.627372Z",
     "start_time": "2020-02-09T22:59:29.604108Z"
    },
    "slideshow": {
     "slide_type": "fragment"
    }
   },
   "outputs": [],
   "source": [
    "data.loc[[0,1,3], [\"Name\", \"Age\"]]"
   ]
  },
  {
   "cell_type": "markdown",
   "metadata": {
    "slideshow": {
     "slide_type": "subslide"
    }
   },
   "source": [
    "Além de aceitar usar slicing"
   ]
  },
  {
   "cell_type": "code",
   "execution_count": null,
   "metadata": {
    "ExecuteTime": {
     "end_time": "2020-02-09T22:59:30.436168Z",
     "start_time": "2020-02-09T22:59:30.410261Z"
    },
    "slideshow": {
     "slide_type": "fragment"
    }
   },
   "outputs": [],
   "source": [
    "data.loc[0:5, \"ID\":\"Age\"]"
   ]
  },
  {
   "cell_type": "markdown",
   "metadata": {
    "slideshow": {
     "slide_type": "subslide"
    }
   },
   "source": [
    "E também conseguir misturar:"
   ]
  },
  {
   "cell_type": "code",
   "execution_count": null,
   "metadata": {
    "ExecuteTime": {
     "end_time": "2020-02-09T22:59:31.407306Z",
     "start_time": "2020-02-09T22:59:31.382096Z"
    },
    "slideshow": {
     "slide_type": "fragment"
    }
   },
   "outputs": [],
   "source": [
    "data.loc[0:10, [\"Name\", \"Age\"]]"
   ]
  },
  {
   "cell_type": "markdown",
   "metadata": {
    "slideshow": {
     "slide_type": "slide"
    }
   },
   "source": [
    "#### Acesso com array de booleanos"
   ]
  },
  {
   "cell_type": "markdown",
   "metadata": {
    "slideshow": {
     "slide_type": "fragment"
    }
   },
   "source": [
    "Tanto no caso de `iloc` como de `loc` é possível passar um array de booleanos. Funciona assim, cada booleano, `True` ou `False`, indica se você quer ou não, manter aquela linha/coluna na sua tabela. Por exemplo, se queremos apenas a segunda e a terceira linha da tabela podemos acessar usando um array de booleanos fazendo:\n",
    "\n",
    "`df.loc[[False, True, True, False, False, False, False, ..., False], :]`\n",
    "\n",
    "Pode não parecer muito útil a princípio (afinal, poderíamos fazer simplesmente `df.loc[[1,2], :]`, não é mesmo?) mas esta é a principal forma de filtrar dados de uma tabela, como veremos mais pra frente."
   ]
  },
  {
   "cell_type": "markdown",
   "metadata": {
    "slideshow": {
     "slide_type": "subslide"
    }
   },
   "source": [
    "<div class=\"alert alert-block alert-info\">\n",
    "<b>Exercício:</b>\n",
    "\n",
    "Extraia da tabela o nome e a posição dos dez últimos jogadores da tabela.\n",
    "</div>"
   ]
  },
  {
   "cell_type": "markdown",
   "metadata": {
    "slideshow": {
     "slide_type": "fragment"
    }
   },
   "source": [
    "<div class=\"alert alert-block alert-success\">\n",
    "<b>Solução:</b>\n",
    "</div>"
   ]
  },
  {
   "cell_type": "code",
   "execution_count": null,
   "metadata": {
    "slideshow": {
     "slide_type": "fragment"
    }
   },
   "outputs": [],
   "source": []
  },
  {
   "cell_type": "markdown",
   "metadata": {
    "slideshow": {
     "slide_type": "slide"
    }
   },
   "source": [
    "#### Operações lógicas e filtrando dados de uma tabela"
   ]
  },
  {
   "cell_type": "markdown",
   "metadata": {
    "slideshow": {
     "slide_type": "fragment"
    }
   },
   "source": [
    "Você pode fazer operações lógicas com elementos de uma dataframe. Suponha que vocês queiram ver quais jogadores tem mais de 27 anos:"
   ]
  },
  {
   "cell_type": "code",
   "execution_count": null,
   "metadata": {
    "ExecuteTime": {
     "end_time": "2020-02-09T22:59:35.791074Z",
     "start_time": "2020-02-09T22:59:35.769593Z"
    },
    "slideshow": {
     "slide_type": "fragment"
    }
   },
   "outputs": [],
   "source": [
    "data.Age >= 28"
   ]
  },
  {
   "cell_type": "markdown",
   "metadata": {
    "slideshow": {
     "slide_type": "subslide"
    }
   },
   "source": [
    "Você pode usar operações como `>`, `>=`, `==` para fazer esse tipo de comparação:"
   ]
  },
  {
   "cell_type": "code",
   "execution_count": null,
   "metadata": {
    "ExecuteTime": {
     "end_time": "2020-02-09T22:59:37.121816Z",
     "start_time": "2020-02-09T22:59:37.100778Z"
    },
    "slideshow": {
     "slide_type": "fragment"
    }
   },
   "outputs": [],
   "source": [
    "data.Club == \"FC Barcelona\""
   ]
  },
  {
   "cell_type": "markdown",
   "metadata": {
    "slideshow": {
     "slide_type": "subslide"
    }
   },
   "source": [
    "Se você quiser saber quais jogadores são do Barcelona **E** têm mais de 28 anos, pode usar o operador `&` (que é basicamente um `and`, assim como `|` é um `or`):"
   ]
  },
  {
   "cell_type": "code",
   "execution_count": null,
   "metadata": {
    "ExecuteTime": {
     "end_time": "2020-02-09T22:59:38.107358Z",
     "start_time": "2020-02-09T22:59:38.093044Z"
    },
    "slideshow": {
     "slide_type": "fragment"
    }
   },
   "outputs": [],
   "source": [
    "(data.Age >= 28) & (data.Club == \"FC Barcelona\")"
   ]
  },
  {
   "cell_type": "markdown",
   "metadata": {
    "slideshow": {
     "slide_type": "subslide"
    }
   },
   "source": [
    "Podemos agora usar esses arrays  booleanos para **filtrar nossos dados**, usando `.loc` ou `.iloc`. Se quisermos filtrar a tabela e só manter as linhas dos jogadores do Barcelona, fazemos"
   ]
  },
  {
   "cell_type": "code",
   "execution_count": null,
   "metadata": {
    "ExecuteTime": {
     "end_time": "2020-02-09T22:59:39.158576Z",
     "start_time": "2020-02-09T22:59:39.106141Z"
    },
    "slideshow": {
     "slide_type": "fragment"
    }
   },
   "outputs": [],
   "source": [
    "data.loc[data.Club == \"FC Barcelona\", :]  # note que usamos array de booleanos para as linhas e slice para as colunas"
   ]
  },
  {
   "cell_type": "markdown",
   "metadata": {
    "slideshow": {
     "slide_type": "subslide"
    }
   },
   "source": [
    "<div class=\"alert alert-block alert-info\">\n",
    "<b>Exercício:</b>\n",
    "\n",
    "Filtre a tabela, mantendo somente os jogadores do barcelona **E** de nacionalidade espanhola.\n",
    "</div>"
   ]
  },
  {
   "cell_type": "markdown",
   "metadata": {
    "slideshow": {
     "slide_type": "fragment"
    }
   },
   "source": [
    "<div class=\"alert alert-block alert-success\">\n",
    "<b>Solução:</b>\n",
    "</div>"
   ]
  },
  {
   "cell_type": "code",
   "execution_count": null,
   "metadata": {
    "slideshow": {
     "slide_type": "fragment"
    }
   },
   "outputs": [],
   "source": []
  },
  {
   "cell_type": "markdown",
   "metadata": {
    "slideshow": {
     "slide_type": "slide"
    }
   },
   "source": [
    "#### Outras operações com pandas"
   ]
  },
  {
   "cell_type": "markdown",
   "metadata": {
    "slideshow": {
     "slide_type": "fragment"
    }
   },
   "source": [
    "Você também pode usar métodos de soma, média, desvio padrão para colunas (ou seja, objetos do tipo `pd.Series`) do pandas. Isso é muito simples, já que você precisa apenas usar métodos como `series.sum()`. Por exemplo, qual é a média de idade dos jogadores do Fifa? Podemos responder isso fazendo:"
   ]
  },
  {
   "cell_type": "code",
   "execution_count": null,
   "metadata": {
    "ExecuteTime": {
     "end_time": "2020-02-09T22:59:42.339622Z",
     "start_time": "2020-02-09T22:59:42.316950Z"
    },
    "slideshow": {
     "slide_type": "fragment"
    }
   },
   "outputs": [],
   "source": [
    "data.Age.mean()"
   ]
  },
  {
   "cell_type": "markdown",
   "metadata": {
    "slideshow": {
     "slide_type": "fragment"
    }
   },
   "source": [
    "Outros métodos são `.sum()`, `.min()`, `.max()`, `.stddev()`, mas diversos outros estão disponíveis na [documentação do pandas](https://pandas.pydata.org/pandas-docs/stable/reference/api/pandas.Series.html)."
   ]
  },
  {
   "cell_type": "markdown",
   "metadata": {
    "slideshow": {
     "slide_type": "subslide"
    }
   },
   "source": [
    "<div class=\"alert alert-block alert-info\">\n",
    "<b>Exercício:</b>\n",
    "\n",
    "Encontre a menor idade dentre os jogadores do Barcelona. Qual (ou quais) jogadores do barcelona possuem essa idade?\n",
    "</div>"
   ]
  },
  {
   "cell_type": "markdown",
   "metadata": {
    "slideshow": {
     "slide_type": "fragment"
    }
   },
   "source": [
    "<div class=\"alert alert-block alert-success\">\n",
    "<b>Solução:</b>\n",
    "</div>"
   ]
  },
  {
   "cell_type": "code",
   "execution_count": null,
   "metadata": {
    "slideshow": {
     "slide_type": "fragment"
    }
   },
   "outputs": [],
   "source": []
  },
  {
   "cell_type": "markdown",
   "metadata": {
    "slideshow": {
     "slide_type": "subslide"
    }
   },
   "source": [
    "<div class=\"alert alert-block alert-info\">\n",
    "<b>Exercício:</b>\n",
    "\n",
    "A habilidade do jogador, de maneira geral, está contida na coluna `Overall`. Qual time possui a maior média de habilidade, Barecelona ou Real Madrid? Qual dos dois times tem o melhor jogador?\n",
    "</div>"
   ]
  },
  {
   "cell_type": "markdown",
   "metadata": {
    "slideshow": {
     "slide_type": "fragment"
    }
   },
   "source": [
    "<div class=\"alert alert-block alert-success\">\n",
    "<b>Solução:</b>\n",
    "</div>"
   ]
  },
  {
   "cell_type": "code",
   "execution_count": null,
   "metadata": {
    "slideshow": {
     "slide_type": "fragment"
    }
   },
   "outputs": [],
   "source": []
  },
  {
   "cell_type": "markdown",
   "metadata": {
    "slideshow": {
     "slide_type": "slide"
    }
   },
   "source": [
    "#### Ordenando os dados"
   ]
  },
  {
   "cell_type": "markdown",
   "metadata": {
    "slideshow": {
     "slide_type": "fragment"
    }
   },
   "source": [
    "Nem sempre a tabela está ordenada da maneira ideal para resolver o seu problema. Por exemplo, você pode querer ver os jogadores do FIFA ordenados por idade. Para isso, usaremos o método `.sort_values()`:"
   ]
  },
  {
   "cell_type": "code",
   "execution_count": null,
   "metadata": {
    "ExecuteTime": {
     "end_time": "2020-02-09T22:59:47.455652Z",
     "start_time": "2020-02-09T22:59:47.305353Z"
    },
    "slideshow": {
     "slide_type": "fragment"
    }
   },
   "outputs": [],
   "source": [
    "data.sort_values(by=\"Age\")"
   ]
  },
  {
   "cell_type": "markdown",
   "metadata": {
    "slideshow": {
     "slide_type": "subslide"
    }
   },
   "source": [
    "Se quisermos inverter a ordem, basta usar o parâmetro `ascending`:"
   ]
  },
  {
   "cell_type": "code",
   "execution_count": null,
   "metadata": {
    "ExecuteTime": {
     "end_time": "2020-02-09T22:59:48.322524Z",
     "start_time": "2020-02-09T22:59:48.170342Z"
    },
    "slideshow": {
     "slide_type": "fragment"
    }
   },
   "outputs": [],
   "source": [
    "data.sort_values(by=\"Age\", ascending=False)"
   ]
  },
  {
   "cell_type": "markdown",
   "metadata": {
    "slideshow": {
     "slide_type": "subslide"
    }
   },
   "source": [
    "Podemos ordenar por duas colunas. Quando você faz isso, o pandas ordena pela primeira, e quando há empate, ordena pela segunda:"
   ]
  },
  {
   "cell_type": "code",
   "execution_count": null,
   "metadata": {
    "ExecuteTime": {
     "end_time": "2020-02-09T22:59:49.229591Z",
     "start_time": "2020-02-09T22:59:49.083210Z"
    },
    "slideshow": {
     "slide_type": "fragment"
    }
   },
   "outputs": [],
   "source": [
    "data.sort_values(by=[\"Age\", \"Overall\"], ascending=False)"
   ]
  },
  {
   "cell_type": "markdown",
   "metadata": {
    "slideshow": {
     "slide_type": "slide"
    }
   },
   "source": [
    "##### Alterando dados e criando colunas novas"
   ]
  },
  {
   "cell_type": "markdown",
   "metadata": {
    "slideshow": {
     "slide_type": "fragment"
    }
   },
   "source": [
    "Em pandas, podemos manipular os dados de diversas maneiras. A operações mais comuns (como `+`, `-`, `==` etc), podem ser usadas diretamente, como qualquer outro objeto Python. No caso de uma coluna de um DataFrame, a operação é feita **termo a termo**:"
   ]
  },
  {
   "cell_type": "code",
   "execution_count": null,
   "metadata": {
    "ExecuteTime": {
     "end_time": "2020-02-09T22:59:50.717712Z",
     "start_time": "2020-02-09T22:59:50.675756Z"
    },
    "slideshow": {
     "slide_type": "fragment"
    }
   },
   "outputs": [],
   "source": [
    "data[\"Age\"] + 10"
   ]
  },
  {
   "cell_type": "markdown",
   "metadata": {
    "slideshow": {
     "slide_type": "subslide"
    }
   },
   "source": [
    "Podemos colocar os nossos resultados em colunas novas do DataFrame se desejarmos. Para fazer isso, simplesmente use um *assignment* do Python, assim:"
   ]
  },
  {
   "cell_type": "code",
   "execution_count": null,
   "metadata": {
    "ExecuteTime": {
     "end_time": "2020-02-09T22:59:51.673107Z",
     "start_time": "2020-02-09T22:59:51.667017Z"
    },
    "slideshow": {
     "slide_type": "fragment"
    }
   },
   "outputs": [],
   "source": [
    "data[\"Age in 10 years\"] = data[\"Age\"] + 10"
   ]
  },
  {
   "cell_type": "markdown",
   "metadata": {
    "slideshow": {
     "slide_type": "subslide"
    }
   },
   "source": [
    "No entanto, muitas vezes precisamos fazer uso de funções mais complicadas. Se conseguirmos fazer essa operação como uma função `f(x)` em Python, podemos aplicar essa função em cada elemento da coluna usando o método `.apply(f)`. Por exemplo:"
   ]
  },
  {
   "cell_type": "code",
   "execution_count": null,
   "metadata": {
    "ExecuteTime": {
     "end_time": "2020-02-09T22:59:52.688261Z",
     "start_time": "2020-02-09T22:59:52.647124Z"
    },
    "slideshow": {
     "slide_type": "fragment"
    }
   },
   "outputs": [],
   "source": [
    "def funcao_complicada(overall):\n",
    "    return (overall / 10) * ((overall + 2) ** 2)\n",
    "\n",
    "data.Overall.apply(funcao_complicada)"
   ]
  },
  {
   "cell_type": "markdown",
   "metadata": {
    "slideshow": {
     "slide_type": "slide"
    }
   },
   "source": [
    "##### Agrupando dados e tirando estatísticas"
   ]
  },
  {
   "cell_type": "markdown",
   "metadata": {
    "slideshow": {
     "slide_type": "fragment"
    }
   },
   "source": [
    "Muitas vezes precisamos agrupar e tirar informações de cada grupo na nossa tabela. Por exemplo, podemos querer saber a idade média por clube, o *Overall* médio por país, o número de clubes por país, o número de jogadores por país etc. Para extrair todas essas informações, precisamos agrupar os dados e tirar alguma informação de cada grupo. A biblioteca pandas facilita esse trabalho e dá maneiras simples de responder todas essas perguntas.\n",
    "\n",
    "A agregação mais simples que podemos fazer em Pandas é a *quantidade de vezes que cada elemento aparece em uma coluna*, usando o método `.value_counts()`. Por exemplo, para encontrar a quantidade de jogadores por país, fazemos:"
   ]
  },
  {
   "cell_type": "code",
   "execution_count": null,
   "metadata": {
    "ExecuteTime": {
     "end_time": "2020-02-09T22:59:54.219047Z",
     "start_time": "2020-02-09T22:59:54.184440Z"
    },
    "slideshow": {
     "slide_type": "fragment"
    }
   },
   "outputs": [],
   "source": [
    "data.Nationality.value_counts()"
   ]
  },
  {
   "cell_type": "markdown",
   "metadata": {
    "slideshow": {
     "slide_type": "subslide"
    }
   },
   "source": [
    "Para agregar estatísticas mais complicadas, precisamos usar o método `.groupby()`. Por exemplo, para encontrar a média de *Overall* por clube, fazemos assim: fazemos um grupo por cada *Club* usando `.groupby(\"Club\")`, depois pegamos a coluna `Overall` e tiramos a a média usando `.mean()`."
   ]
  },
  {
   "cell_type": "code",
   "execution_count": null,
   "metadata": {
    "ExecuteTime": {
     "end_time": "2020-02-09T22:59:55.252006Z",
     "start_time": "2020-02-09T22:59:55.219600Z"
    },
    "slideshow": {
     "slide_type": "fragment"
    }
   },
   "outputs": [],
   "source": [
    "data.groupby(\"Club\").Overall.mean()"
   ]
  },
  {
   "cell_type": "markdown",
   "metadata": {
    "slideshow": {
     "slide_type": "subslide"
    }
   },
   "source": [
    "Podemos pegar tirar a média de mais uma coluna, usando `[col1, col2]` para acessá-las. Por exemplo, para tirar a média de `Age` e de `Overall` para cada `Club`, fazemos:"
   ]
  },
  {
   "cell_type": "code",
   "execution_count": null,
   "metadata": {
    "ExecuteTime": {
     "end_time": "2020-02-09T22:59:56.252235Z",
     "start_time": "2020-02-09T22:59:56.223831Z"
    },
    "slideshow": {
     "slide_type": "fragment"
    }
   },
   "outputs": [],
   "source": [
    "data.groupby(\"Club\")[\"Overall\", \"Age\"].mean()"
   ]
  },
  {
   "cell_type": "markdown",
   "metadata": {
    "slideshow": {
     "slide_type": "fragment"
    }
   },
   "source": [
    "<div class=\"alert alert-block alert-warning\">\n",
    "<b>Atenção:</b>\n",
    "\n",
    "Note que a coluna que você agrupou, nesse caso `Club`, vira o índice das linhas no resultado final.\n",
    "</div>"
   ]
  },
  {
   "cell_type": "markdown",
   "metadata": {
    "slideshow": {
     "slide_type": "subslide"
    }
   },
   "source": [
    "<div class=\"alert alert-block alert-info\">\n",
    "<b>Exercício:</b>\n",
    "\n",
    "Potencial não realizado é a diferença entre as colunas `Potential` (potencial que o jogador tem de chegar em termos de habilidade) e `Overall` (habilidade atual do jogador). Encontre o time de **maior média de potencial não realizado**. \n",
    "</div>"
   ]
  },
  {
   "cell_type": "markdown",
   "metadata": {
    "slideshow": {
     "slide_type": "fragment"
    }
   },
   "source": [
    "<div class=\"alert alert-block alert-success\">\n",
    "<b>Solução:</b>\n",
    "</div>"
   ]
  },
  {
   "cell_type": "code",
   "execution_count": null,
   "metadata": {
    "slideshow": {
     "slide_type": "fragment"
    }
   },
   "outputs": [],
   "source": []
  },
  {
   "cell_type": "markdown",
   "metadata": {
    "slideshow": {
     "slide_type": "slide"
    }
   },
   "source": [
    "#### Dados ausentes ou nulos"
   ]
  },
  {
   "cell_type": "markdown",
   "metadata": {
    "slideshow": {
     "slide_type": "fragment"
    }
   },
   "source": [
    "Em muitos casos, os dados que um data scientist vai trabalhar não estão em perfeitas condições. Em muitos casos, várias colunas possuem, por exemplo, dados ausentes, seja por falhas no processo de capptura, por esses dados estarem indisponíveis, ou por esse dado não fazer sentido para aquele caso (por exemplo, na linha de um jogador novato, a coluna de \"Clube anterior\" pode estar vazia pois aquele é seu primeiro clube).\n",
    "\n",
    "Para investigar se cada elemento de uma coluna é nulo ou não, podemos usar os métodos `.isnull()` ou `.notnull()`. Por exemplo, para vez quais elementos da coluna `Club` estão nulos:"
   ]
  },
  {
   "cell_type": "code",
   "execution_count": null,
   "metadata": {
    "ExecuteTime": {
     "end_time": "2020-02-09T23:00:00.222639Z",
     "start_time": "2020-02-09T23:00:00.200074Z"
    },
    "slideshow": {
     "slide_type": "fragment"
    }
   },
   "outputs": [],
   "source": [
    "data.Club.isnull()"
   ]
  },
  {
   "cell_type": "markdown",
   "metadata": {
    "slideshow": {
     "slide_type": "subslide"
    }
   },
   "source": [
    "Mas quantos deles são nulos? Para isso, basta somar todos os `True` que temos no resultado acima: "
   ]
  },
  {
   "cell_type": "code",
   "execution_count": null,
   "metadata": {
    "ExecuteTime": {
     "end_time": "2020-02-09T23:00:01.278323Z",
     "start_time": "2020-02-09T23:00:01.253421Z"
    },
    "slideshow": {
     "slide_type": "fragment"
    }
   },
   "outputs": [],
   "source": [
    "data.Club.isnull().sum()"
   ]
  },
  {
   "cell_type": "markdown",
   "metadata": {
    "slideshow": {
     "slide_type": "subslide"
    }
   },
   "source": [
    "Então 241 jogadores estão sem clube! Podemos agora querer preencher esses valores nulos com a string `\"No Club\"`. Para fazer isso, usamos o método `.fillna()`:"
   ]
  },
  {
   "cell_type": "code",
   "execution_count": null,
   "metadata": {
    "ExecuteTime": {
     "end_time": "2020-02-09T23:00:02.252209Z",
     "start_time": "2020-02-09T23:00:02.243416Z"
    },
    "slideshow": {
     "slide_type": "fragment"
    }
   },
   "outputs": [],
   "source": [
    "data[\"Filled Club\"] = data.Club.fillna(\"No Club\")"
   ]
  },
  {
   "cell_type": "code",
   "execution_count": null,
   "metadata": {
    "ExecuteTime": {
     "end_time": "2020-02-09T23:00:02.823611Z",
     "start_time": "2020-02-09T23:00:02.808960Z"
    },
    "slideshow": {
     "slide_type": "fragment"
    }
   },
   "outputs": [],
   "source": [
    "data[\"Filled Club\"].isnull().sum()"
   ]
  },
  {
   "cell_type": "markdown",
   "metadata": {
    "slideshow": {
     "slide_type": "fragment"
    }
   },
   "source": [
    "Note que a coluna `Filled Club` não tem mais valores nulos."
   ]
  },
  {
   "cell_type": "markdown",
   "metadata": {
    "slideshow": {
     "slide_type": "subslide"
    }
   },
   "source": [
    "Outra operação muito comum em trabalho de data science é jogar fora colunas que tem algum valor nulo. Podemos fazer isso usando o método `dropna()`, assim:"
   ]
  },
  {
   "cell_type": "code",
   "execution_count": null,
   "metadata": {
    "ExecuteTime": {
     "end_time": "2020-02-09T23:00:04.503862Z",
     "start_time": "2020-02-09T23:00:04.305197Z"
    },
    "slideshow": {
     "slide_type": "fragment"
    }
   },
   "outputs": [],
   "source": [
    "data.dropna(axis=\"columns\")"
   ]
  },
  {
   "cell_type": "markdown",
   "metadata": {
    "slideshow": {
     "slide_type": "fragment"
    }
   },
   "source": [
    "Veja que só sobraram 14 colunas. Se quisermos jogar todas as linhas que tenham algum valor nulo, basta colocar o parâmetro `axis=\"rows\"` no método `.dropna()`"
   ]
  },
  {
   "cell_type": "markdown",
   "metadata": {
    "slideshow": {
     "slide_type": "slide"
    }
   },
   "source": [
    "## Pandas ou numpy?"
   ]
  },
  {
   "cell_type": "markdown",
   "metadata": {
    "slideshow": {
     "slide_type": "fragment"
    }
   },
   "source": [
    "É importante saber alguns prós e contras do Numpy e Pandas para quando vamos escolher a melhor ferramenta para realizar alguma tarefa. \n",
    "\n",
    "Algumas dicas:\n",
    "\n",
    "* Dados tabulares -> preferência a Pandas\n",
    "* problema por estritamente um problema de algebra linear (como decomposição de matrizes ou manipulação de vetores) -> escolha Numpy \n",
    "* Performance: numpy é mais simples e sua simplicidade resulta em um código mais otimizado (com diversas partes internas escritas em C ao invés de Python). Se a performance das suas operações no pandas é um problema, troque para Numpy para fazer os cálculos mais pesados.\n",
    "* **Usem SEMPRE a documentação e a comunidade (como Stack Overflow), pois essas são as principais vantagens de utilizar Python e essas bibliotecas mais \"famosas\".**"
   ]
  }
 ],
 "metadata": {
  "kernelspec": {
   "display_name": "Python 3",
   "language": "python",
   "name": "python3"
  },
  "language_info": {
   "codemirror_mode": {
    "name": "ipython",
    "version": 3
   },
   "file_extension": ".py",
   "mimetype": "text/x-python",
   "name": "python",
   "nbconvert_exporter": "python",
   "pygments_lexer": "ipython3",
   "version": "3.7.1"
  },
  "toc": {
   "base_numbering": 1,
   "nav_menu": {},
   "number_sections": true,
   "sideBar": true,
   "skip_h1_title": false,
   "title_cell": "Table of Contents",
   "title_sidebar": "Contents",
   "toc_cell": false,
   "toc_position": {
    "height": "calc(100% - 180px)",
    "left": "10px",
    "top": "150px",
    "width": "256px"
   },
   "toc_section_display": true,
   "toc_window_display": true
  }
 },
 "nbformat": 4,
 "nbformat_minor": 2
}
